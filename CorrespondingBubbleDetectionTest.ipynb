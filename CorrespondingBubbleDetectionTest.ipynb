{
 "cells": [
  {
   "cell_type": "code",
   "execution_count": 1,
   "metadata": {},
   "outputs": [],
   "source": [
    "from utils import *"
   ]
  },
  {
   "cell_type": "code",
   "execution_count": 2,
   "metadata": {},
   "outputs": [
    {
     "name": "stdout",
     "output_type": "stream",
     "text": [
      "[[[ 1.66697997e-01  1.11875810e-01]\n",
      "  [ 1.15914514e-01  1.72239412e-01]]\n",
      "\n",
      " [[-2.76736935e-01  9.69754544e-02]\n",
      "  [-2.76737528e-01 -2.13463399e-05]]\n",
      "\n",
      " [[ 6.21835210e-02 -2.36068523e-01]\n",
      "  [ 1.15887333e-01 -1.72234408e-01]]]\n"
     ]
    }
   ],
   "source": [
    "# bubble_locations = np.array([[8.0, 3.0, -14.0],[-8.0, 3.0, -14.0]])\n",
    "bubble_locations = np.array([[8.0, 3.0, -14.0],[8.0, 0.0, -14.0]])\n",
    "# bubble_locations = np.array([[8.0, 3.0, -14.0]])\n",
    "\n",
    "sensor1 = create_sensor(sensor_number=1)\n",
    "sensor2 = create_sensor(sensor_number=2)\n",
    "sensor3 = create_sensor(sensor_number=3)\n",
    "\n",
    "pose1 = np.array(sensor1['to_world'].matrix)[:3,:]\n",
    "pose2 = np.array(sensor2['to_world'].matrix)[:3,:]\n",
    "pose3 = np.array(sensor3['to_world'].matrix)[:3,:]\n",
    "\n",
    "poses = np.stack([pose1, pose2, pose3])\n",
    "inv_poses = compute_inverse_pose_matrices(poses)\n",
    "\n",
    "# Determine the reprojected pixel positions of the bubbles from each image\n",
    "normalized_bubble_reprojections = []\n",
    "for inv_pose in inv_poses:\n",
    "    reprojs = []\n",
    "    for loc in bubble_locations:\n",
    "        reprojs.append(reproject(inv_pose, loc))\n",
    "    normalized_bubble_reprojections.append(reprojs)\n",
    "\n",
    "# Convert those re-projections to pixel coordinates\n",
    "# Note that we do not actually end up using this since `find_correspinding_locations`\n",
    "# takes in the normalized positions...\n",
    "bubble_reprojections = []\n",
    "for projs in normalized_bubble_reprojections:\n",
    "    reprojs = []\n",
    "    for proj in projs:\n",
    "        reprojs.append(normalized_to_pixel(proj))\n",
    "    bubble_reprojections.append(reprojs)\n",
    "\n",
    "print(np.array(normalized_bubble_reprojections))"
   ]
  },
  {
   "cell_type": "code",
   "execution_count": 3,
   "metadata": {},
   "outputs": [],
   "source": [
    "def find_corresponding_locations(pose1, pose2, locs1, locs2):\n",
    "    \"\"\"Find the corresponding bubbles from two camera views using the pose matrices\n",
    "    of the cameras and the *normalized* pixel coordinates of the bubbles in the images.\n",
    "    Corresponding points are found by searching for the minimum ray separations using\n",
    "    a modified mid-point two view triangulation method.\n",
    "\n",
    "    Parameters:\n",
    "        pose1: (3, 4) pose matrix of camera 1\\\\\n",
    "        pose2: (3, 4) pose matrix of camera 2\\\\\n",
    "        locs1: (n, 2) normalized UV coordinates of bubbles in camera 1\\\\\n",
    "        locs2: (n, 2) normalized UV coordinates of bubbles in camera 2\n",
    "\n",
    "    Returns:\n",
    "        (n//2, 2, 2) corresponding normalized pixel coordinates of bubbles in cameras 1 and 2\n",
    "        such that [i,0] is the coordinate of the ith bubble in camera 1 and [i,1] is the \n",
    "        corresponding coordinate of the ith bubble in camera 2\n",
    "    \"\"\"\n",
    "    # Extract the rotation matrix and translation vector from the pose matrices\n",
    "    rmat1 = pose1[:,:3]\n",
    "    rmat2 = pose2[:,:3]\n",
    "\n",
    "    # Determine the out-going ray directions\n",
    "    # Note: We are using -1 for the homogeneous coordinate \n",
    "    # bc Mitsuba uses left-handed coordinates!\n",
    "    ray1ds = []\n",
    "    for loc in locs1:\n",
    "        ray1ds.append(rmat1 @ np.array([loc[0], loc[1], -1.0]).T)\n",
    "    ray2ds = []\n",
    "    for loc in locs2:\n",
    "        ray2ds.append(rmat2 @ np.array([loc[0], loc[1], -1.0]).T)\n",
    "\n",
    "    # The origin of the rays is the translation vectors of the pose matrices\n",
    "    ray1o = pose1[:,3]\n",
    "    ray2o = pose2[:,3]\n",
    "\n",
    "    # Solve for the distance along each pair of rays where they are closest to each other\n",
    "    closest_distances = []\n",
    "    for d1 in ray1ds:\n",
    "        for d2 in ray2ds:\n",
    "            A = np.array([[d1.T @ d1, -d2.T @ d1],\n",
    "                          [d1.T @ d2, -d2.T @ d2]])\n",
    "            b = np.array([(ray2o - ray1o).T @ d1, (ray2o - ray1o).T @ d2])\n",
    "            ts = np.linalg.inv(A) @ b\n",
    "            r1t = ray1o + (ts[0] * d1)\n",
    "            r2t = ray2o + (ts[1] * d2)\n",
    "            closest_distances.append(np.linalg.norm(r1t - r2t))\n",
    "    \n",
    "\n",
    "    # print(closest_distances)\n",
    "    correspondences = []\n",
    "    for _ in range(len(closest_distances)//2):\n",
    "        closest = np.argmin(closest_distances)\n",
    "        l1 = locs1[closest//2]\n",
    "        l2 = locs2[closest%2]\n",
    "        correspondences.append([l1, l2])\n",
    "        closest_distances[closest] = np.inf\n",
    "    return np.array(correspondences)"
   ]
  },
  {
   "cell_type": "code",
   "execution_count": 4,
   "metadata": {},
   "outputs": [
    {
     "name": "stdout",
     "output_type": "stream",
     "text": [
      "[[[ 1.15914514e-01  1.72239412e-01]\n",
      "  [-2.76737528e-01 -2.13463399e-05]]\n",
      "\n",
      " [[ 1.66697997e-01  1.11875810e-01]\n",
      "  [-2.76736935e-01  9.69754544e-02]]]\n"
     ]
    }
   ],
   "source": [
    "print(find_corresponding_locations(pose1, pose2, normalized_bubble_reprojections[0], normalized_bubble_reprojections[1]))"
   ]
  }
 ],
 "metadata": {
  "kernelspec": {
   "display_name": "Bubble",
   "language": "python",
   "name": "python3"
  },
  "language_info": {
   "codemirror_mode": {
    "name": "ipython",
    "version": 3
   },
   "file_extension": ".py",
   "mimetype": "text/x-python",
   "name": "python",
   "nbconvert_exporter": "python",
   "pygments_lexer": "ipython3",
   "version": "3.12.2"
  }
 },
 "nbformat": 4,
 "nbformat_minor": 2
}
