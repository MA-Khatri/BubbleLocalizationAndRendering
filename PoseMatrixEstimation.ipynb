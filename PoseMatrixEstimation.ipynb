{
 "cells": [
  {
   "cell_type": "code",
   "execution_count": 1,
   "metadata": {},
   "outputs": [],
   "source": [
    "from utils import *"
   ]
  },
  {
   "cell_type": "code",
   "execution_count": 5,
   "metadata": {},
   "outputs": [
    {
     "data": {
      "text/html": [
       "<span style=\"font-family: monospace; color: #f55\">2024-08-09 18:51:57 WARN  main  [PLYMesh] &quot;outer_jar_outer_surface_top_distorted.ply&quot;: skipping unknown element &quot;edge&quot;</span>"
      ]
     },
     "metadata": {},
     "output_type": "display_data"
    },
    {
     "data": {
      "text/html": [
       "<span style=\"font-family: monospace; color: #f55\">2024-08-09 18:51:57 WARN  main  [PLYMesh] &quot;outer_jar_inner_surface_top_distorted.ply&quot;: skipping unknown element &quot;edge&quot;</span>"
      ]
     },
     "metadata": {},
     "output_type": "display_data"
    },
    {
     "data": {
      "text/html": [
       "<span style=\"font-family: monospace; color: #f55\">2024-08-09 18:51:57 WARN  main  [PLYMesh] &quot;inner_jar_outer_surface_bottom.ply&quot;: skipping unknown element &quot;edge&quot;</span>"
      ]
     },
     "metadata": {},
     "output_type": "display_data"
    },
    {
     "name": "stdout",
     "output_type": "stream",
     "text": [
      "Saved Image: ./outputs/2024_08_09/18_51_57_rgb.png\n",
      "Saved Image: ./outputs/2024_08_09/18_52_17_rgb.png\n",
      "Saved Image: ./outputs/2024_08_09/18_52_35_rgb.png\n"
     ]
    }
   ],
   "source": [
    "spp = 1024\n",
    "render_images = True\n",
    "\n",
    "materials = create_materials(with_fluids=False)\n",
    "components = load_components(materials=materials)\n",
    "\n",
    "# Generate the camera sensors\n",
    "cam1 = create_sensor(sensor_number=1, sample_count=spp)\n",
    "cam2 = create_sensor(sensor_number=2, sample_count=spp)\n",
    "cam3 = create_sensor(sensor_number=3, sample_count=spp)\n",
    "\n",
    "if render_images:\n",
    "    # Generate the scene to render\n",
    "    cam1_scene = load_scene(components=components, sensor=cam1)\n",
    "    cam2_scene = load_scene(components=components, sensor=cam2)\n",
    "    cam3_scene = load_scene(components=components, sensor=cam3)\n",
    "\n",
    "    # Render the scenes (save so we can manually determine the pixel locations of fiducials)\n",
    "    render1 = render(cam1_scene, denoise=False, save_rgb=True) \n",
    "    render2 = render(cam2_scene, denoise=False, save_rgb=True)\n",
    "    render3 = render(cam3_scene, denoise=False, save_rgb=True)\n",
    "    renders = [render1, render2, render3]\n",
    "else:\n",
    "    renders = []"
   ]
  },
  {
   "cell_type": "code",
   "execution_count": 6,
   "metadata": {},
   "outputs": [],
   "source": [
    "# Extract projection matrices from sensors\n",
    "c1poset = np.array(cam1['to_world'].matrix)[:3,:]\n",
    "c2poset = np.array(cam2['to_world'].matrix)[:3,:]\n",
    "c3poset = np.array(cam3['to_world'].matrix)[:3,:]\n",
    "\n",
    "# Extract true camera posns\n",
    "c1posnt = c1poset[:,3]\n",
    "c2posnt = c2poset[:,3]\n",
    "c3posnt = c3poset[:,3]"
   ]
  },
  {
   "cell_type": "code",
   "execution_count": 7,
   "metadata": {},
   "outputs": [
    {
     "name": "stderr",
     "output_type": "stream",
     "text": [
      "Clipping input data to the valid range for imshow with RGB data ([0..1] for floats or [0..255] for integers).\n",
      "Clipping input data to the valid range for imshow with RGB data ([0..1] for floats or [0..255] for integers).\n",
      "Clipping input data to the valid range for imshow with RGB data ([0..1] for floats or [0..255] for integers).\n",
      "Clipping input data to the valid range for imshow with RGB data ([0..1] for floats or [0..255] for integers).\n",
      "Clipping input data to the valid range for imshow with RGB data ([0..1] for floats or [0..255] for integers).\n",
      "Clipping input data to the valid range for imshow with RGB data ([0..1] for floats or [0..255] for integers).\n"
     ]
    },
    {
     "data": {
      "image/png": "[encoded data removed]",
      "text/plain": [
       "<Figure size 640x480 with 15 Axes>"
      ]
     },
     "metadata": {},
     "output_type": "display_data"
    }
   ],
   "source": [
    "# Fiducial markers world space positions (cm)\n",
    "objp = np.array([\n",
    "    [-5.3029,  2.2389, 0.0],\n",
    "    [-2.2382,  5.3024, 0.0],\n",
    "    [ 0.0,     0.0,    0.0],\n",
    "    [ 5.3031, -2.397,  0.0],\n",
    "    [ 2.2381, -5.305,  0.0],\n",
    "])\n",
    "\n",
    "# Manually determined pixel coords of the fiducial markers\n",
    "cam1_pixel_coords = np.array([\n",
    "    [693.0, 232.5],\n",
    "    [787.0, 249.0],\n",
    "    [745.0, 374.0],\n",
    "    [795.0, 512.0],\n",
    "    [695.0, 516.0],\n",
    "])\n",
    "\n",
    "cam2_pixel_coords = np.array([\n",
    "    [854.0, 452.0],\n",
    "    [795.0, 531.0],\n",
    "    [748.0, 400.0],\n",
    "    [619.0, 335.0],\n",
    "    [697.0, 257.0],\n",
    "])\n",
    "\n",
    "cam3_pixel_coords = np.array([\n",
    "    [615.0, 494.0],\n",
    "    [614.0, 372.0],\n",
    "    [744.0, 426.0],\n",
    "    [854.0, 368.0],\n",
    "    [850.0, 469.0],\n",
    "])\n",
    "\n",
    "pixel_coords = [cam1_pixel_coords, cam2_pixel_coords, cam3_pixel_coords]\n",
    "\n",
    "# Display the fiducial markers just to make sure we got the coords right...\n",
    "if render_images:\n",
    "    size = 10 # 1/2 size of fiducial marker windows\n",
    "    fig, ax = plt.subplots(3, 5)\n",
    "    for j, i in np.ndindex((3, 5)):\n",
    "        rend = renders[j]\n",
    "        coord = pixel_coords[j][i].astype(np.int32)\n",
    "        coord = np.flip(coord) # need to flip for image indexing\n",
    "        ax[j,i].imshow(rend[coord[0]-size:coord[0]+size, coord[1]-size:coord[1]+size], cmap='gray')\n",
    "        ax[j,i].axis('off')"
   ]
  },
  {
   "cell_type": "code",
   "execution_count": 5,
   "metadata": {},
   "outputs": [
    {
     "name": "stdout",
     "output_type": "stream",
     "text": [
      "[[537.02376395   0.         640.        ]\n",
      " [  0.         537.02376395 400.        ]\n",
      " [  0.           0.           1.        ]]\n",
      "None\n"
     ]
    }
   ],
   "source": [
    "cameraMatrix = get_ideal_camera_matrix(fov=100, fov_axis='x', image_width=1280, image_height=800)\n",
    "distortionCoefficients = None\n",
    "\n",
    "print(cameraMatrix)\n",
    "print(distortionCoefficients)"
   ]
  },
  {
   "cell_type": "code",
   "execution_count": 6,
   "metadata": {},
   "outputs": [
    {
     "name": "stdout",
     "output_type": "stream",
     "text": [
      "Camera 1:\n",
      "Translation Vector:\n",
      " [[ 4.06990367]\n",
      " [-1.03999094]\n",
      " [20.85891434]]\n",
      "\n",
      "Rotation Vector:\n",
      " [[2.65156725]\n",
      " [1.12318608]\n",
      " [0.41755727]]\n",
      "\n",
      "Rotation Matrix:\n",
      " [[ 0.66534962  0.66112748  0.34672806]\n",
      " [ 0.72706975 -0.67923171 -0.10006929]\n",
      " [ 0.16935013  0.31867655 -0.93261235]]\n",
      "\n",
      "Camera 2:\n",
      "Translation Vector:\n",
      " [[ 4.17753887]\n",
      " [ 0.03553391]\n",
      " [20.70719781]]\n",
      "\n",
      "Rotation Vector:\n",
      " [[0.01463247]\n",
      " [2.74994027]\n",
      " [0.04406   ]]\n",
      "\n",
      "Rotation Matrix:\n",
      " [[-0.92437462  0.00412775  0.38146366]\n",
      " [ 0.01634624  0.99945165  0.02879584]\n",
      " [-0.38113562  0.03285364 -0.92393521]]\n",
      "\n",
      "Camera 3:\n",
      "Translation Vector:\n",
      " [[ 4.03789726]\n",
      " [ 0.97135175]\n",
      " [20.82499609]]\n",
      "\n",
      "Rotation Vector:\n",
      " [[-2.6481281 ]\n",
      " [ 1.13678047]\n",
      " [-0.47820406]]\n",
      "\n",
      "Rotation Matrix:\n",
      " [[ 0.64784618 -0.66121733  0.37826838]\n",
      " [-0.73278452 -0.67660979  0.07229136]\n",
      " [ 0.20813978 -0.32402289 -0.92286889]]\n",
      "\n"
     ]
    }
   ],
   "source": [
    "ret1, rvec1, tvec1 = cv2.solvePnP(objp, cam1_pixel_coords, cameraMatrix, distortionCoefficients)\n",
    "print('Camera 1:')\n",
    "print('Translation Vector:\\n', tvec1, end='\\n\\n')\n",
    "print('Rotation Vector:\\n', rvec1, end='\\n\\n')\n",
    "R1, _ = cv2.Rodrigues(rvec1)\n",
    "print('Rotation Matrix:\\n', R1, end='\\n\\n')\n",
    "\n",
    "\n",
    "ret2, rvec2, tvec2 = cv2.solvePnP(objp, cam2_pixel_coords, cameraMatrix, distortionCoefficients)\n",
    "print('Camera 2:')\n",
    "print('Translation Vector:\\n', tvec2, end='\\n\\n')\n",
    "print('Rotation Vector:\\n', rvec2, end='\\n\\n')\n",
    "R2, _ = cv2.Rodrigues(rvec2)\n",
    "print('Rotation Matrix:\\n', R2, end='\\n\\n')\n",
    "\n",
    "\n",
    "ret3, rvec3, tvec3 = cv2.solvePnP(objp, cam3_pixel_coords, cameraMatrix, distortionCoefficients)\n",
    "print('Camera 3:')\n",
    "print('Translation Vector:\\n', tvec3, end='\\n\\n')\n",
    "print('Rotation Vector:\\n', rvec3, end='\\n\\n')\n",
    "R3, _ = cv2.Rodrigues(rvec3)\n",
    "print('Rotation Matrix:\\n', R3, end='\\n\\n')"
   ]
  },
  {
   "cell_type": "code",
   "execution_count": 7,
   "metadata": {},
   "outputs": [
    {
     "name": "stdout",
     "output_type": "stream",
     "text": [
      "=== Camera 1:\n",
      "Calculated Camera Position:\n",
      " [ -5.48422285 -10.04436686  17.93806006]\n",
      "\n",
      "True Camera Position:\n",
      " [ -5.963346 -10.328704  17.848883]\n",
      "\n",
      "Difference: [0.47912316 0.28433702 0.08917739]\n",
      "Difference Magnitude: 0.5642332375026725\n",
      "\n",
      "=== Camera 2:\n",
      "Calculated Camera Position:\n",
      " [11.75328075 -0.73306505 17.53750673]\n",
      "\n",
      "True Camera Position:\n",
      " [ 1.1928695e+01 -2.2059578e-05  1.7849874e+01]\n",
      "\n",
      "Difference: [-0.17541398 -0.73304299 -0.31236777]\n",
      "Difference Magnitude: 0.8159017801673896\n",
      "\n",
      "=== Camera 3:\n",
      "Calculated Camera Position:\n",
      " [-6.23865499 10.07492927 17.62111191]\n",
      "\n",
      "True Camera Position:\n",
      " [-5.9638467 10.3296175 17.851877 ]\n",
      "\n",
      "Difference: [-0.2748083  -0.25468823 -0.2307653 ]\n",
      "Difference Magnitude: 0.4400435455858636\n",
      "\n"
     ]
    }
   ],
   "source": [
    "c1posnp = -(R1.T)@tvec1\n",
    "print(\"=== Camera 1:\")\n",
    "print(\"Calculated Camera Position:\\n\", c1posnp.flatten(), end='\\n\\n')\n",
    "print(\"True Camera Position:\\n\",  c1posnt, end='\\n\\n')\n",
    "print(\"Difference:\", c1posnp.flatten() - c1posnt)\n",
    "print(\"Difference Magnitude:\", np.linalg.norm(c1posnp.flatten() - c1posnt))\n",
    "print()\n",
    "\n",
    "c2posnp = -(R2.T)@tvec2\n",
    "print(\"=== Camera 2:\")\n",
    "print(\"Calculated Camera Position:\\n\", c2posnp.flatten(), end='\\n\\n')\n",
    "print(\"True Camera Position:\\n\",  c2posnt, end='\\n\\n')\n",
    "print(\"Difference:\", c2posnp.flatten() - c2posnt)\n",
    "print(\"Difference Magnitude:\", np.linalg.norm(c2posnp.flatten() - c2posnt))\n",
    "print()\n",
    "\n",
    "c3posnp = -(R3.T)@tvec3\n",
    "print(\"=== Camera 3:\")\n",
    "print(\"Calculated Camera Position:\\n\", c3posnp.flatten(), end='\\n\\n')\n",
    "print(\"True Camera Position:\\n\",  c3posnt, end='\\n\\n')\n",
    "print(\"Difference:\", c3posnp.flatten() - c3posnt)\n",
    "print(\"Difference Magnitude:\", np.linalg.norm(c3posnp.flatten() - c3posnt))\n",
    "print()"
   ]
  },
  {
   "cell_type": "code",
   "execution_count": 8,
   "metadata": {},
   "outputs": [
    {
     "name": "stdout",
     "output_type": "stream",
     "text": [
      "Camera 1:\n",
      "True Pose Matrix:\n",
      "[[ -0.65651083  -0.7296439    0.19134612  -5.963346  ]\n",
      " [ -0.65651083   0.6776173    0.33140364 -10.328704  ]\n",
      " [ -0.371466     0.09194928  -0.92388225  17.848883  ]]\n",
      "\n",
      "Estimated Pose Matrix:\n",
      "[[ -0.66534962  -0.72706975   0.16935013  -5.48422285]\n",
      " [ -0.66112748   0.67923171   0.31867655 -10.04436686]\n",
      " [ -0.34672806   0.10006929  -0.93261235  17.93806006]]\n",
      "\n",
      "Camera 2:\n",
      "True Pose Matrix:\n",
      "[[ 9.2387486e-01 -8.4420835e-06 -3.8269472e-01  1.1928695e+01]\n",
      " [ 0.0000000e+00 -1.0000000e+00  2.2059578e-05 -2.2059578e-05]\n",
      " [-3.8269472e-01 -2.0380288e-05 -9.2387486e-01  1.7849874e+01]]\n",
      "\n",
      "Estimated Pose Matrix:\n",
      "[[ 9.24374621e-01 -1.63462428e-02 -3.81135621e-01  1.17532807e+01]\n",
      " [-4.12775009e-03 -9.99451650e-01  3.28536386e-02 -7.33065051e-01]\n",
      " [-3.81463658e-01 -2.87958371e-02 -9.23935213e-01  1.75375067e+01]]\n",
      "\n",
      "Camera 3:\n",
      "True Pose Matrix:\n",
      "[[-0.6565078   0.7296465   0.19134672 -5.9638467 ]\n",
      " [ 0.6565078   0.6776134  -0.33141768 10.3296175 ]\n",
      " [-0.37147677 -0.09195767 -0.9238771  17.851877  ]]\n",
      "\n",
      "Estimated Pose Matrix:\n",
      "[[-0.64784618  0.73278452  0.20813978 -6.23865499]\n",
      " [ 0.66121733  0.67660979 -0.32402289 10.07492927]\n",
      " [-0.37826838 -0.07229136 -0.92286889 17.62111191]]\n",
      "\n"
     ]
    }
   ],
   "source": [
    "zrot = np.array([[-1.0, 0.0, 0.0], [0.0, -1.0, 0.0], [0.0, 0.0, 1.0]]) # 180 deg rotation about z axis (necessary to match mitsuba assumption about left handed coordinates)\n",
    "\n",
    "print(\"Camera 1:\")\n",
    "print(\"True Pose Matrix:\")\n",
    "print(c1poset)\n",
    "print()\n",
    "print(\"Estimated Pose Matrix:\")\n",
    "c1posep = np.concatenate([zrot @ R1, zrot @ tvec1], axis=1)\n",
    "c1posep = np.linalg.inv(np.concatenate([c1posep, [[0.0, 0.0, 0.0, 1.0]]], axis=0))[:3,:]\n",
    "print(c1posep)\n",
    "print()\n",
    "\n",
    "print(\"Camera 2:\")\n",
    "print(\"True Pose Matrix:\")\n",
    "print(c2poset)\n",
    "print()\n",
    "print(\"Estimated Pose Matrix:\")\n",
    "c2posep = np.concatenate([zrot @ R2, zrot @ tvec2], axis=1)\n",
    "c2posep = np.linalg.inv(np.concatenate([c2posep, [[0.0, 0.0, 0.0, 1.0]]], axis=0))[:3,:]\n",
    "print(c2posep)\n",
    "print()\n",
    "\n",
    "print(\"Camera 3:\")\n",
    "print(\"True Pose Matrix:\")\n",
    "print(c3poset)\n",
    "print()\n",
    "print(\"Estimated Pose Matrix:\")\n",
    "c3posep = np.concatenate([zrot @ R3, zrot @ tvec3], axis=1)\n",
    "c3posep = np.linalg.inv(np.concatenate([c3posep, [[0.0, 0.0, 0.0, 1.0]]], axis=0))[:3,:]\n",
    "print(c3posep)\n",
    "print()"
   ]
  },
  {
   "cell_type": "code",
   "execution_count": 9,
   "metadata": {},
   "outputs": [],
   "source": [
    "# Save the projection matrices for use in other files\n",
    "save_dir = \"outputs/estimated_pose_matrices/\"\n",
    "np.save(save_dir+\"c1posep.npy\", c1posep)\n",
    "np.save(save_dir+\"c2posep.npy\", c2posep)\n",
    "np.save(save_dir+\"c3posep.npy\", c3posep)"
   ]
  }
 ],
 "metadata": {
  "kernelspec": {
   "display_name": "Bubble",
   "language": "python",
   "name": "python3"
  },
  "language_info": {
   "codemirror_mode": {
    "name": "ipython",
    "version": 3
   },
   "file_extension": ".py",
   "mimetype": "text/x-python",
   "name": "python",
   "nbconvert_exporter": "python",
   "pygments_lexer": "ipython3",
   "version": "3.12.2"
  }
 },
 "nbformat": 4,
 "nbformat_minor": 2
}
